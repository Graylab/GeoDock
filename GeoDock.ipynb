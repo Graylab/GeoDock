{
  "nbformat": 4,
  "nbformat_minor": 0,
  "metadata": {
    "colab": {
      "provenance": [],
      "gpuType": "T4",
      "mount_file_id": "1qNN74eL3oay8qF3Uh-NFYwFV7OoBpCU6",
      "authorship_tag": "ABX9TyO6ZhIdE4lDt29ZOhaxsPsH",
      "include_colab_link": true
    },
    "kernelspec": {
      "name": "python3",
      "display_name": "Python 3"
    },
    "language_info": {
      "name": "python"
    },
    "accelerator": "GPU"
  },
  "cells": [
    {
      "cell_type": "markdown",
      "metadata": {
        "id": "view-in-github",
        "colab_type": "text"
      },
      "source": [
        "<a href=\"https://colab.research.google.com/github/Graylab/GeoDock/blob/main/GeoDock.ipynb\" target=\"_parent\"><img src=\"https://colab.research.google.com/assets/colab-badge.svg\" alt=\"Open In Colab\"/></a>"
      ]
    },
    {
      "cell_type": "code",
      "source": [
        "#@title Hit `Runtime` -> `Run all`, then input docking partner1 and partner2\n",
        "!git clone https://github.com/Graylab/GeoDock.git\n",
        "%cd /content/GeoDock\n",
        "from google.colab import files\n",
        "out_name = 'test' #@param {type:\"string\"}\n",
        "upload1 = files.upload()\n",
        "upload2 = files.upload()\n",
        "partner1 = list(upload1.keys())[0]\n",
        "partner2 = list(upload2.keys())[0]"
      ],
      "metadata": {
        "id": "QhJ4lxFrwZ3l",
        "cellView": "form"
      },
      "execution_count": null,
      "outputs": []
    },
    {
      "cell_type": "code",
      "source": [
        "#@title Install dependencies\n",
        "%%time\n",
        "%%capture\n",
        "import sys\n",
        "import torch\n",
        "pyt_version_str=torch.__version__.split(\"+\")[0].replace(\".\", \"\")\n",
        "version_str=\"\".join([\n",
        "    f\"py3{sys.version_info.minor}_cu\",\n",
        "    torch.version.cuda.replace(\".\",\"\"),\n",
        "    f\"_pyt{pyt_version_str}\"\n",
        "])\n",
        "!pip install fvcore iopath\n",
        "!pip install --no-index --no-cache-dir pytorch3d -f https://dl.fbaipublicfiles.com/pytorch3d/packaging/wheels/{version_str}/download.html\n",
        "\n",
        "def format_pytorch_version(version):\n",
        "  return version.split('+')[0]\n",
        "\n",
        "TORCH_version = torch.__version__\n",
        "TORCH = format_pytorch_version(TORCH_version)\n",
        "\n",
        "def format_cuda_version(version):\n",
        "  return 'cu' + version.replace('.', '')\n",
        "\n",
        "CUDA_version = torch.version.cuda\n",
        "CUDA = format_cuda_version(CUDA_version)\n",
        "\n",
        "!pip install torch-scatter     -f https://pytorch-geometric.com/whl/torch-{TORCH}+{CUDA}.html\n",
        "!pip install torch-sparse      -f https://pytorch-geometric.com/whl/torch-{TORCH}+{CUDA}.html\n",
        "!pip install torch-cluster     -f https://pytorch-geometric.com/whl/torch-{TORCH}+{CUDA}.html\n",
        "!pip install torch-spline-conv -f https://pytorch-geometric.com/whl/torch-{TORCH}+{CUDA}.html\n",
        "!pip install torch-geometric\n",
        "!pip install pytorch-lightning\n",
        "!pip install py3Dmol\n",
        "!pip install fair-esm\n",
        "!pip install biotite\n",
        "!pip install einops"
      ],
      "metadata": {
        "id": "lscm2F0chz1D",
        "cellView": "form"
      },
      "execution_count": null,
      "outputs": []
    },
    {
      "cell_type": "code",
      "source": [
        "#@title Run Prediction\n",
        "from geodock.GeoDockRunner import GeoDockRunner\n",
        "torch.cuda.empty_cache()\n",
        "ckpt_file = \"geodock/weights/dips.ckpt\"\n",
        "geodock = GeoDockRunner(ckpt_file=ckpt_file)\n",
        "pred = geodock.dock(\n",
        "    partner1=partner1,\n",
        "    partner2=partner2,\n",
        "    out_name=out_name\n",
        ")"
      ],
      "metadata": {
        "id": "CAY_ZAn_u7iY",
        "cellView": "form"
      },
      "execution_count": null,
      "outputs": []
    },
    {
      "cell_type": "code",
      "source": [
        "#@title Display 3D structure {run: \"auto\"}\n",
        "import py3Dmol\n",
        "\n",
        "color = \"chain\" #@param [\"chain\", \"lDDT\", \"rainbow\"]\n",
        "\n",
        "view = py3Dmol.view(js='https://3dmol.org/build/3Dmol.js',)\n",
        "view.addModel(open(out_name+'.pdb','r').read(),'pdb')\n",
        "if color == 'chain':\n",
        "  view.setStyle({'chain': 'A'},{'cartoon': {'color': 'green'}})\n",
        "  view.setStyle({'chain': 'B'},{'cartoon': {'color': 'blue'}})\n",
        "elif color == 'lDDT':\n",
        "  view.setStyle({'cartoon': {'colorscheme': {'prop':'b','gradient': 'roygb','min':50,'max':90}}})\n",
        "elif color == 'rainbow':\n",
        "  view.setStyle({'model': -1}, {\"cartoon\": {'color': 'spectrum'}})\n",
        "view.zoomTo()\n",
        "view.show()"
      ],
      "metadata": {
        "cellView": "form",
        "id": "m1dXzzjPOWU-"
      },
      "execution_count": null,
      "outputs": []
    }
  ]
}